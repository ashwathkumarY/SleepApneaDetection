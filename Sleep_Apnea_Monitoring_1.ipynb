{
 "cells": [
  {
   "cell_type": "code",
   "execution_count": 3,
   "id": "85a1b649",
   "metadata": {},
   "outputs": [],
   "source": [
    "# Loading necessary libraries for the project\n",
    "import pandas as pd\n",
    "import numpy as np\n",
    "from sklearn.model_selection import train_test_split\n",
    "from sklearn.preprocessing import StandardScaler\n",
    "from sklearn.tree import DecisionTreeClassifier\n",
    "from sklearn.metrics import classification_report, confusion_matrix\n",
    "import matplotlib.pyplot as plt\n",
    "import seaborn as sns\n",
    "\n",
    "# Loading the dataset\n",
    "data = pd.read_csv(\"C:\\\\Users\\\\ASUS\\\\OneDrive\\\\Documents\\\\Semester 8\\\\IoT Domain Analyst\\\\Project\\\\Sleep_health_and_lifestyle_dataset.csv\")\n"
   ]
  },
  {
   "cell_type": "code",
   "execution_count": 6,
   "id": "2a6f3616",
   "metadata": {},
   "outputs": [
    {
     "name": "stdout",
     "output_type": "stream",
     "text": [
      "        Person_ID         Age  Sleep_Duration  Quality_of_Sleep  \\\n",
      "count  374.000000  374.000000      374.000000        374.000000   \n",
      "mean   187.500000   42.184492        7.132086          7.312834   \n",
      "std    108.108742    8.673133        0.795657          1.196956   \n",
      "min      1.000000   27.000000        5.800000          4.000000   \n",
      "25%     94.250000   35.250000        6.400000          6.000000   \n",
      "50%    187.500000   43.000000        7.200000          7.000000   \n",
      "75%    280.750000   50.000000        7.800000          8.000000   \n",
      "max    374.000000   59.000000        8.500000          9.000000   \n",
      "\n",
      "       Physical_Activity_Level  Stress_Level  Heart_Rate   Daily_Steps  \\\n",
      "count               374.000000    374.000000  374.000000    374.000000   \n",
      "mean                 59.171123      5.385027   71.176471   6816.844920   \n",
      "std                  20.830804      1.774526    5.274338   1617.915679   \n",
      "min                  30.000000      3.000000   65.000000   3000.000000   \n",
      "25%                  45.000000      4.000000   68.000000   5600.000000   \n",
      "50%                  60.000000      5.000000   70.000000   7000.000000   \n",
      "75%                  75.000000      7.000000   72.000000   8000.000000   \n",
      "max                  90.000000      8.000000   89.000000  10000.000000   \n",
      "\n",
      "        SPO2_Rate  \n",
      "count  374.000000  \n",
      "mean    94.823529  \n",
      "std      5.368050  \n",
      "min     75.000000  \n",
      "25%     92.000000  \n",
      "50%     97.000000  \n",
      "75%     98.000000  \n",
      "max    100.000000  \n",
      "              precision    recall  f1-score   support\n",
      "\n",
      "    Insomnia       0.50      0.65      0.56        17\n",
      "      Normal       0.90      0.78      0.83        55\n",
      " Sleep Apnea       0.92      1.00      0.96        22\n",
      "\n",
      "    accuracy                           0.81        94\n",
      "   macro avg       0.77      0.81      0.79        94\n",
      "weighted avg       0.83      0.81      0.81        94\n",
      "\n"
     ]
    }
   ],
   "source": [
    "\n",
    "# Removing all the NaN values\n",
    "data.dropna(inplace=True)\n",
    "\n",
    "# Getting the statistical summary\n",
    "print(data.describe())\n",
    "\n",
    "# Selecting features\n",
    "selected_features = ['Snoring', 'SPO2_Rate', 'Heart_Rate']\n",
    "data['Snoring'] = data['Snoring'].map({'Yes': 1.0, 'No': 0.0})\n",
    "X = data[selected_features]\n",
    "y = data['Sleep_Disorder']\n",
    "\n",
    "# Splitting the data into training and test sets\n",
    "X_train, X_test, y_train, y_test = train_test_split(X, y, test_size=0.25, random_state=42)\n",
    "\n",
    "# Preprocessing (scaling)\n",
    "scaler = StandardScaler()\n",
    "X_train_scaled = scaler.fit_transform(X_train)\n",
    "X_test_scaled = scaler.transform(X_test)\n",
    "\n",
    "# Creating Decision Tree classifier\n",
    "clf = DecisionTreeClassifier(random_state=42)\n",
    "\n",
    "# Training the classifier\n",
    "clf.fit(X_train_scaled, y_train)\n",
    "\n",
    "# Predicting on the test set\n",
    "y_pred = clf.predict(X_test_scaled)\n",
    "y_pred\n",
    "\n",
    "# Generating classification report\n",
    "print(classification_report(y_test, y_pred))\n"
   ]
  },
  {
   "cell_type": "code",
   "execution_count": 10,
   "id": "eff980c0",
   "metadata": {},
   "outputs": [
    {
     "data": {
      "text/plain": [
       "array(['Insomnia', 'Insomnia', 'Normal', 'Normal', 'Insomnia', 'Insomnia',\n",
       "       'Insomnia', 'Normal', 'Normal', 'Normal', 'Insomnia', 'Normal',\n",
       "       'Normal', 'Insomnia', 'Normal', 'Normal', 'Sleep Apnea', 'Normal',\n",
       "       'Normal', 'Normal', 'Normal', 'Normal', 'Insomnia', 'Insomnia',\n",
       "       'Insomnia', 'Normal', 'Insomnia', 'Insomnia', 'Normal',\n",
       "       'Sleep Apnea', 'Normal', 'Normal', 'Normal', 'Sleep Apnea',\n",
       "       'Sleep Apnea', 'Normal', 'Insomnia', 'Normal', 'Normal', 'Normal',\n",
       "       'Normal', 'Sleep Apnea', 'Sleep Apnea', 'Sleep Apnea', 'Normal',\n",
       "       'Normal', 'Normal', 'Normal', 'Sleep Apnea', 'Normal',\n",
       "       'Sleep Apnea', 'Sleep Apnea', 'Sleep Apnea', 'Sleep Apnea',\n",
       "       'Insomnia', 'Sleep Apnea', 'Sleep Apnea', 'Sleep Apnea',\n",
       "       'Sleep Apnea', 'Insomnia', 'Normal', 'Insomnia', 'Insomnia',\n",
       "       'Normal', 'Normal', 'Normal', 'Insomnia', 'Normal', 'Normal',\n",
       "       'Normal', 'Insomnia', 'Normal', 'Insomnia', 'Sleep Apnea',\n",
       "       'Sleep Apnea', 'Insomnia', 'Normal', 'Normal', 'Sleep Apnea',\n",
       "       'Sleep Apnea', 'Normal', 'Sleep Apnea', 'Normal', 'Normal',\n",
       "       'Normal', 'Sleep Apnea', 'Normal', 'Sleep Apnea', 'Normal',\n",
       "       'Normal', 'Sleep Apnea', 'Insomnia', 'Normal', 'Normal'],\n",
       "      dtype=object)"
      ]
     },
     "execution_count": 10,
     "metadata": {},
     "output_type": "execute_result"
    }
   ],
   "source": [
    "y_pred"
   ]
  },
  {
   "cell_type": "code",
   "execution_count": 7,
   "id": "6ef8dfab",
   "metadata": {},
   "outputs": [
    {
     "data": {
      "image/png": "[encoded data removed]",
      "text/plain": [
       "<Figure size 640x480 with 2 Axes>"
      ]
     },
     "metadata": {},
     "output_type": "display_data"
    }
   ],
   "source": [
    "\n",
    "# Generating the confusion matrix\n",
    "cm = confusion_matrix(y_test, y_pred)\n",
    "sns.heatmap(cm, annot=True, fmt='d')\n",
    "plt.xlabel('Predicted')\n",
    "plt.ylabel('True')\n",
    "plt.show()\n"
   ]
  },
  {
   "cell_type": "code",
   "execution_count": 8,
   "id": "d0f4e790",
   "metadata": {},
   "outputs": [
    {
     "name": "stdout",
     "output_type": "stream",
     "text": [
      "Accuracy: 0.8085106382978723\n"
     ]
    }
   ],
   "source": [
    "# Evaluating the accuracy of the classifier\n",
    "accuracy = (y_pred == y_test).mean()\n",
    "print(\"Accuracy:\", accuracy)"
   ]
  },
  {
   "cell_type": "code",
   "execution_count": 9,
   "id": "64700814",
   "metadata": {},
   "outputs": [
    {
     "data": {
      "image/png": "[encoded data removed]",
      "text/plain": [
       "<Figure size 640x480 with 1 Axes>"
      ]
     },
     "metadata": {},
     "output_type": "display_data"
    }
   ],
   "source": [
    "\n",
    "\n",
    "# Plotting feature importances (if applicable for Decision Trees)\n",
    "if hasattr(clf, 'feature_importances_'):\n",
    "    importances = clf.feature_importances_\n",
    "    indices = np.argsort(importances)[::-1]\n",
    "    plt.figure()\n",
    "    plt.title(\"Feature importances\")\n",
    "    plt.bar(range(X_train_scaled.shape[1]), importances[indices], color=\"r\", align=\"center\")\n",
    "    plt.xticks(range(X_train_scaled.shape[1]), [selected_features[i] for i in indices])\n",
    "    plt.xlim([-1, X_train_scaled.shape[1]])\n",
    "    plt.show()"
   ]
  },
  {
   "cell_type": "code",
   "execution_count": null,
   "id": "2b933a89",
   "metadata": {},
   "outputs": [],
   "source": []
  }
 ],
 "metadata": {
  "kernelspec": {
   "display_name": "Python 3 (ipykernel)",
   "language": "python",
   "name": "python3"
  },
  "language_info": {
   "codemirror_mode": {
    "name": "ipython",
    "version": 3
   },
   "file_extension": ".py",
   "mimetype": "text/x-python",
   "name": "python",
   "nbconvert_exporter": "python",
   "pygments_lexer": "ipython3",
   "version": "3.10.9"
  }
 },
 "nbformat": 4,
 "nbformat_minor": 5
}
